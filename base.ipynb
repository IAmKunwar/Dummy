{
 "cells": [
  {
   "cell_type": "code",
   "execution_count": null,
   "metadata": {},
   "outputs": [],
   "source": [
    "# Importing Packages\n",
    "import pandas as pd\n",
    "import numpy as np\n",
    "import matplotlib.pyplot as plt\n",
    "import seaborn as sns\n",
    "import warnings\n",
    "import xgboost as xgb\n",
    "from sklearn.ensemble import RandomForestRegressor\n",
    "from math import sqrt\n",
    "from sklearn.metrics import mean_squared_error\n",
    "from sklearn.preprocessing import LabelEncoder\n",
    "from sklearn.model_selection import cross_val_score\n",
    "from sklearn.model_selection import train_test_split\n",
    "from sklearn.model_selection import KFold, StratifiedKFold\n",
    "import catboost as cb\n",
    "warnings.filterwarnings('ignore')\n",
    "\n",
    "import catboost as cb\n",
    "from sklearn.model_selection import train_test_split\n",
    "from sklearn.model_selection import KFold, StratifiedKFold\n",
    "from skopt import BayesSearchCV\n",
    "import pprint\n",
    "from time import time\n",
    "from sklearn.metrics import accuracy_score\n",
    "from skopt.callbacks import DeadlineStopper, VerboseCallback, DeltaXStopper\n",
    "from skopt.space import Real, Categorical, Integer\n",
    "from sklearn.ensemble import RandomForestRegressor\n",
    "from collections import defaultdict\n",
    "from sklearn import metrics\n",
    "from math import sqrt\n",
    "from sklearn.metrics import mean_squared_error\n",
    "from sklearn.model_selection import cross_val_score\n"
   ]
  },
  {
   "cell_type": "code",
   "execution_count": null,
   "metadata": {},
   "outputs": [],
   "source": [
    "# loading data\n",
    "train = pd.read_csv('train.csv')\n",
    "test = pd.read_csv('test.csv')"
   ]
  },
  {
   "cell_type": "code",
   "execution_count": null,
   "metadata": {},
   "outputs": [],
   "source": [
    "# Combine dataset here\n",
    "test['amount_spent_per_room_night_scaled'] = np.nan\n",
    "\n",
    "comb = train.append(test)"
   ]
  },
  {
   "cell_type": "code",
   "execution_count": null,
   "metadata": {},
   "outputs": [],
   "source": [
    "comb['odd_adults'] = np.where(comb['numberofadults'] % 2 !=0 , 1 ,0)"
   ]
  },
  {
   "cell_type": "code",
   "execution_count": null,
   "metadata": {},
   "outputs": [],
   "source": [
    "# Handle missing values here\n",
    "comb['state_code_residence'] = np.where(comb['state_code_residence'].isnull(),8.0,comb['state_code_residence'])  # Filling by mode\n",
    "comb['season_holidayed_code'] = np.where(comb['season_holidayed_code'].isnull(),2.0,comb['season_holidayed_code'])  # Filling by mode\n"
   ]
  },
  {
   "cell_type": "code",
   "execution_count": null,
   "metadata": {},
   "outputs": [],
   "source": [
    "# Data Cleaning and feature engineering\n",
    "\n",
    "comb['booking_date'] = pd.to_datetime(comb['booking_date'], format='%d/%m/%y')\n",
    "comb['checkin_date'] = pd.to_datetime(comb['checkin_date'], format='%d/%m/%y')\n",
    "comb['checkout_date'] = pd.to_datetime(comb['checkout_date'], format='%d/%m/%y')\n",
    "\n",
    "comb['duration_stayed'] = comb['checkout_date'] - comb['checkin_date']\n",
    "comb['duration_stayed']=comb['duration_stayed'].dt.days\n",
    "comb['duration_stayed'] = np.where(comb['duration_stayed'] >7,7,comb['duration_stayed'])\n",
    "comb['weekday'] = np.where(comb['checkin_date'].dt.weekday > 4,1,0)"
   ]
  },
  {
   "cell_type": "code",
   "execution_count": null,
   "metadata": {},
   "outputs": [],
   "source": [
    "comb['checkin_month'] = comb['checkin_date'].dt.month\n",
    "comb['booking_checkin'] = comb['checkin_date'] - comb['booking_date']\n",
    "comb['booking_checkin'] = comb['booking_checkin'].dt.days\n",
    "comb['booking_checkin'] = np.where(comb['booking_checkin'] < 0,comb['booking_checkin'].median(),comb['booking_checkin'])\n",
    "comb['booking_checkin'] = np.where(comb['booking_checkin'] > 3,3,comb['booking_checkin'])"
   ]
  },
  {
   "cell_type": "code",
   "execution_count": null,
   "metadata": {},
   "outputs": [],
   "source": [
    "comb['totalpeople'] = comb['numberofadults'] + comb['numberofchildren'] \n",
    "comb['totalpeople'] = np.where(comb['totalpeople']>6,6,comb['totalpeople'])\n",
    "comb['totalpeople'] = comb['totalpeople'].replace({0:4})"
   ]
  },
  {
   "cell_type": "code",
   "execution_count": null,
   "metadata": {},
   "outputs": [],
   "source": [
    "comb['roomnights'] = np.where(comb['roomnights'] > 7 ,7,comb['roomnights'])\n",
    "comb['booked_stayed'] = comb['roomnights'] - comb['duration_stayed']"
   ]
  },
  {
   "cell_type": "code",
   "execution_count": null,
   "metadata": {},
   "outputs": [],
   "source": [
    "comb['reservationstatusid_code'] = np.where(comb['reservationstatusid_code'] == 'D','C',comb['reservationstatusid_code'])\n",
    "comb['persontravellingid'] = comb['persontravellingid'].replace({4995:4753})\n",
    "comb['room_type_booked_code'] = comb['room_type_booked_code'].replace({5:6})\n",
    "comb['season_holidayed_code'] = comb['season_holidayed_code'].astype('int')\n",
    "comb['total_pax'] = np.where(comb['total_pax'] > 7 ,7,comb['total_pax'])"
   ]
  },
  {
   "cell_type": "code",
   "execution_count": null,
   "metadata": {},
   "outputs": [],
   "source": [
    "comb['state_code_residence']  = comb['state_code_residence'].astype('int')\n",
    "# comb['state_code_residence'] = comb['state_code_residence'].replace({22 :28,24:28,30:28,29:28,33:28,34:28,32:28,37:28,31:28,35:28,\n",
    "#                                                                     36:28,38:28})"
   ]
  },
  {
   "cell_type": "code",
   "execution_count": null,
   "metadata": {},
   "outputs": [],
   "source": [
    "comb = comb.drop(['booking_date','checkin_date','checkout_date','numberofadults','numberofchildren','memberid'],axis = 1)"
   ]
  },
  {
   "cell_type": "code",
   "execution_count": null,
   "metadata": {},
   "outputs": [],
   "source": [
    "comb = pd.get_dummies(comb,columns=['channel_code','main_product_code','persontravellingid','resort_region_code',\n",
    "                                   'resort_type_code','room_type_booked_code','season_holidayed_code','state_code_residence',\n",
    "                                   'state_code_resort','member_age_buckets','booking_type_code','cluster_code',\n",
    "                                   'reservationstatusid_code','resort_id'])\n"
   ]
  },
  {
   "cell_type": "code",
   "execution_count": null,
   "metadata": {},
   "outputs": [],
   "source": [
    "trainset = comb[comb['amount_spent_per_room_night_scaled'].notnull()]\n",
    "testset = comb[comb['amount_spent_per_room_night_scaled'].isnull()]\n",
    "\n",
    "X = trainset.drop(['reservation_id','amount_spent_per_room_night_scaled'],axis = 1)\n",
    "y = pd.DataFrame(trainset['amount_spent_per_room_night_scaled'])"
   ]
  },
  {
   "cell_type": "code",
   "execution_count": null,
   "metadata": {},
   "outputs": [],
   "source": [
    "# Keeping eval set aside\n",
    "X_trainset,X_eval,y_trainset,y_eval = train_test_split(X,y,test_size = 0.15,random_state = 25)"
   ]
  },
  {
   "cell_type": "code",
   "execution_count": null,
   "metadata": {},
   "outputs": [],
   "source": [
    "# Breaking into train and test\n",
    "X_train,X_test,y_train,y_test = train_test_split(X_trainset,y_trainset,test_size = 0.20,random_state = 11)"
   ]
  },
  {
   "cell_type": "code",
   "execution_count": null,
   "metadata": {},
   "outputs": [],
   "source": [
    "# XGBoost Tuning\n",
    "eval_set = [(X_train, y_train), (X_test, y_test)]\n",
    "eval_metric = ['rmse']"
   ]
  },
  {
   "cell_type": "code",
   "execution_count": null,
   "metadata": {},
   "outputs": [],
   "source": [
    "model = xgb.XGBRegressor(\n",
    "                      learning_rate=0.03,  \n",
    "                      colsample_bytree = 0.4,\n",
    "                      subsample = 0.8,\n",
    "                      objective='reg:linear', \n",
    "                      n_estimators=100, \n",
    "                      reg_alpha = 0.3,\n",
    "                      max_depth=4, \n",
    "                      gamma=10)\n",
    "\n",
    "model.fit(X_train,y_train,eval_set = eval_set,eval_metric = eval_metric)"
   ]
  },
  {
   "cell_type": "code",
   "execution_count": null,
   "metadata": {},
   "outputs": [],
   "source": [
    "reg = xgb.XGBRegressor()\n",
    "reg.fit(X_train,y_train)"
   ]
  },
  {
   "cell_type": "code",
   "execution_count": null,
   "metadata": {},
   "outputs": [],
   "source": [
    "reg.feature_importances_"
   ]
  },
  {
   "cell_type": "code",
   "execution_count": null,
   "metadata": {},
   "outputs": [],
   "source": [
    "\n",
    "#Perform cross-validation:\n",
    "# cv_score = cross_val_score(reg, X_train, y_train, cv=5, scoring='neg_mean_squared_error')\n",
    "# cv_score = np.sqrt(np.abs(cv_score))\n",
    "\n",
    "#Print model report:\n",
    "print (\"\\nModel Report\")\n",
    "print (\"RMSE : %.4g\" % np.sqrt(mean_squared_error(y_train, reg.predict(X_train))))\n",
    "# print (\"CV Score : Mean - %.4g | Std - %.4g | Min - %.4g | Max - %.4g\" % (np.mean(cv_score),np.std(cv_score),np.min(cv_score),np.max(cv_score)))\n",
    "\n",
    "rms = sqrt(mean_squared_error(y_test, reg.predict(X_test)))\n",
    "print('Validation rms {}'.format(rms))"
   ]
  },
  {
   "cell_type": "code",
   "execution_count": null,
   "metadata": {},
   "outputs": [],
   "source": [
    "sub = pd.DataFrame()\n",
    "sub['reservation_id'] = testset['reservation_id']\n",
    "pred = reg.predict(testset.drop(['reservation_id','amount_spent_per_room_night_scaled'],axis = 1))\n",
    "sub['amount_spent_per_room_night_scaled'] = pred\n",
    "sub.to_csv('win1.csv',index =False)"
   ]
  },
  {
   "cell_type": "code",
   "execution_count": null,
   "metadata": {},
   "outputs": [],
   "source": []
  },
  {
   "cell_type": "code",
   "execution_count": null,
   "metadata": {},
   "outputs": [],
   "source": []
  },
  {
   "cell_type": "code",
   "execution_count": null,
   "metadata": {},
   "outputs": [],
   "source": []
  },
  {
   "cell_type": "code",
   "execution_count": null,
   "metadata": {},
   "outputs": [],
   "source": []
  },
  {
   "cell_type": "code",
   "execution_count": null,
   "metadata": {},
   "outputs": [],
   "source": []
  }
 ],
 "metadata": {
  "kernelspec": {
   "display_name": "Python 3",
   "language": "python",
   "name": "python3"
  },
  "language_info": {
   "codemirror_mode": {
    "name": "ipython",
    "version": 3
   },
   "file_extension": ".py",
   "mimetype": "text/x-python",
   "name": "python",
   "nbconvert_exporter": "python",
   "pygments_lexer": "ipython3",
   "version": "3.7.1"
  }
 },
 "nbformat": 4,
 "nbformat_minor": 2
}
